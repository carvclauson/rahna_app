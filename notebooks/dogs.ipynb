{
 "cells": [
  {
   "cell_type": "code",
   "execution_count": 1,
   "id": "41055b31-a935-4ea4-9459-570a51382caf",
   "metadata": {},
   "outputs": [],
   "source": [
    "%load_ext autoreload\n",
    "%autoreload 2"
   ]
  },
  {
   "cell_type": "code",
   "execution_count": 2,
   "id": "ab4a4906-b89b-4b6f-9ca2-a2b0639a1a46",
   "metadata": {},
   "outputs": [],
   "source": [
    "from rahna import dog"
   ]
  },
  {
   "cell_type": "markdown",
   "id": "a8413384-bfbb-4c16-ba2b-0772f073569b",
   "metadata": {},
   "source": [
    "## Dog Class"
   ]
  },
  {
   "cell_type": "code",
   "execution_count": null,
   "id": "8e5353ef-3fd4-41f6-8baf-ba2c250e312f",
   "metadata": {},
   "outputs": [],
   "source": [
    "# example of dog instantiation\n",
    "falafel = dog.Dog(\n",
    "        name = 'Falafel',\n",
    "        age = 3,\n",
    "        weight = 6.5,\n",
    "        parent_name = 'Raquel Brasileiro',\n",
    "        phone = '+55 21 98888 7777',\n",
    "        email = 'raquel@brasileiro.com')\n",
    "\n",
    "halloumi = dog.Dog(\n",
    "        name = 'Halloumi',\n",
    "        age = 5,\n",
    "        weight = 8.5,\n",
    "        parent_name = 'Maria Gomes',\n",
    "        phone = '+55 21 98888 6666',\n",
    "        email = 'maria@gomes.com')"
   ]
  },
  {
   "cell_type": "code",
   "execution_count": null,
   "id": "d8b19761-75a3-4806-ad94-556f0b9bf2d0",
   "metadata": {
    "scrolled": true
   },
   "outputs": [],
   "source": [
    "# BE CAREFUL HERE SINCE FOR NOW IT WILL KEEP ADDING SAME DOGS OVER AND OVER\n",
    "\n",
    "# creating the database dog.db and saving at the folder data\n",
    "dog.Dog.create_table(\"../data/test_dog.db\")\n",
    "\n",
    "# adding the two instances to the table\n",
    "falafel.save(\"../data/test_dog.db\")\n",
    "halloumi.save(\"../data/test_dog.db\")"
   ]
  },
  {
   "cell_type": "code",
   "execution_count": null,
   "id": "7148658a-1e2f-41cd-ab02-d4a0f7aafe8d",
   "metadata": {},
   "outputs": [],
   "source": [
    "# prints the whole list of dogs in the database\n",
    "dogs = dog.Dog.list_dogs(\"../data/test_dog.db\")\n",
    "dogs"
   ]
  },
  {
   "cell_type": "code",
   "execution_count": null,
   "id": "f6164593-12a9-4a68-821b-48acc9307968",
   "metadata": {},
   "outputs": [],
   "source": [
    "# gets a specific dog by name in the database\n",
    "dog.Dog.get_by_name('Falafel', \"../data/test_dog.db\")"
   ]
  },
  {
   "cell_type": "markdown",
   "id": "b9c226e2-4482-4dcc-9021-c3f9afa71230",
   "metadata": {},
   "source": [
    "## sqlite3 checks"
   ]
  },
  {
   "cell_type": "markdown",
   "id": "19ee6e99-96ba-4a59-a879-1a8c9a2bc129",
   "metadata": {},
   "source": [
    "Using the default row_factory treats rows as tuples with no information about column names."
   ]
  },
  {
   "cell_type": "code",
   "execution_count": null,
   "id": "7cbd1bd1-ca07-41d7-a78e-d2a16a489370",
   "metadata": {},
   "outputs": [],
   "source": [
    "import sqlite3\n",
    "con = sqlite3.connect(\"../data/test_dog.db\")\n",
    "# con.row_factory is None\n",
    "cur = con.cursor()\n",
    "cur.execute(\"SELECT * FROM dogs\")\n",
    "records = cur.fetchall()\n",
    "con.close()\n",
    "print(records)"
   ]
  },
  {
   "cell_type": "code",
   "execution_count": null,
   "id": "e022de2e-2519-49d0-b172-9e125fc6d2ec",
   "metadata": {},
   "outputs": [],
   "source": [
    "len(records)"
   ]
  },
  {
   "cell_type": "markdown",
   "id": "c0dbfc9d-44c6-4a01-8d5d-03b031404383",
   "metadata": {},
   "source": [
    "Using an object sqlite3.Row as row_factory, rows retain column names "
   ]
  },
  {
   "cell_type": "code",
   "execution_count": null,
   "id": "747b2688-44d2-448d-84e4-fe33e31daac5",
   "metadata": {},
   "outputs": [],
   "source": [
    "con = sqlite3.connect(\"../data/test_dog.db\")\n",
    "con.row_factory = sqlite3.Row\n",
    "cur = con.cursor()\n",
    "cur.execute(\"SELECT * FROM dogs\")\n",
    "records = cur.fetchall()\n",
    "con.close()\n",
    "print(records)\n",
    "print(dict(records[0]))"
   ]
  },
  {
   "cell_type": "markdown",
   "id": "3868bf5c-745a-4e59-bef8-9accb840fa28",
   "metadata": {},
   "source": [
    "Deleting a dog"
   ]
  },
  {
   "cell_type": "code",
   "execution_count": null,
   "id": "f6f13017-f95c-484e-9b94-9d5e176ee1a1",
   "metadata": {},
   "outputs": [],
   "source": [
    "dog_name = 'Falafel'\n",
    "con = sqlite3.connect(\"../data/test_dog.db\")\n",
    "cur = con.cursor()\n",
    "cur.execute(f\"SELECT * FROM dogs WHERE name = '{dog_name}'\")\n",
    "con.commit()\n",
    "con.close()\n",
    "dog.Dog.list_dogs(\"../data/test_dog.db\")"
   ]
  },
  {
   "cell_type": "code",
   "execution_count": null,
   "id": "62ca0cf2-8ae1-450b-a8f6-ee5ad33a2273",
   "metadata": {},
   "outputs": [],
   "source": [
    "#falafel.save(\"../data/test_dog.db\")\n",
    "dog.Dog.delete_by_name(dog_name, \"../data/test_dog.db\")"
   ]
  },
  {
   "cell_type": "code",
   "execution_count": null,
   "id": "13196eae-6ba3-41b8-ac03-76f8dd8540f3",
   "metadata": {},
   "outputs": [],
   "source": [
    "dog.Dog.list_dogs(\"../data/test_dog.db\")"
   ]
  },
  {
   "cell_type": "code",
   "execution_count": null,
   "id": "cab7b2de-8e51-4c71-ab63-89e18497b1ae",
   "metadata": {},
   "outputs": [],
   "source": [
    "import os\n",
    "print(os.environ[\"DATABASE_NAME\"])"
   ]
  },
  {
   "cell_type": "markdown",
   "id": "a65fd5bb-6f21-44c7-aa7d-475f9319fdbb",
   "metadata": {},
   "source": [
    "# API checks"
   ]
  },
  {
   "cell_type": "code",
   "execution_count": 1,
   "id": "73d1a49b-1ba0-4517-8868-8b2fdb9f68fb",
   "metadata": {},
   "outputs": [],
   "source": [
    "from rahna.dog import Dog\n",
    "from rahna.commands import AddDogCommand\n",
    "import requests\n",
    "import json\n",
    "import os"
   ]
  },
  {
   "cell_type": "markdown",
   "id": "5f7d87fa-9398-439a-8e85-0721296d0493",
   "metadata": {},
   "source": [
    "Run api with *python -m app test_ext* to activate the test mode and direct the code to the test_dog.db database. Otherwise requests are going to be made to dog.db"
   ]
  },
  {
   "cell_type": "code",
   "execution_count": 3,
   "id": "4a946796-a069-4359-a31e-7a4995da155d",
   "metadata": {},
   "outputs": [],
   "source": [
    "data= {'name' : 'Falafel',\n",
    "        'age' : 3,\n",
    "        'weight' : 6.5,\n",
    "        'parent_name' : 'Raquel Brasileiro',\n",
    "        'phone' : '+55 21 98888 7777',\n",
    "        'email' : 'raquel@brasileiro.com'}"
   ]
  },
  {
   "cell_type": "code",
   "execution_count": 5,
   "id": "6866ace5-8d98-4465-b3e1-bc7a7b38aa5c",
   "metadata": {},
   "outputs": [
    {
     "data": {
      "text/plain": [
       "<Response [200]>"
      ]
     },
     "execution_count": 5,
     "metadata": {},
     "output_type": "execute_result"
    }
   ],
   "source": [
    "# returns status 500 since the dog already exists in the db\n",
    "r = requests.post('http://127.0.0.1:5000'+'/add-dog/', json = data)\n",
    "r"
   ]
  },
  {
   "cell_type": "code",
   "execution_count": 6,
   "id": "bae5a67c-ce1b-46ec-ba5c-7d6005a38a54",
   "metadata": {},
   "outputs": [
    {
     "data": {
      "text/plain": [
       "<Response [200]>"
      ]
     },
     "execution_count": 6,
     "metadata": {},
     "output_type": "execute_result"
    }
   ],
   "source": [
    "r = requests.get('http://127.0.0.1:5000'+f\"/dog/{data['name']}/\")\n",
    "r"
   ]
  },
  {
   "cell_type": "code",
   "execution_count": 11,
   "id": "ff70b158-29c0-43e6-b1e5-899b9bf19d75",
   "metadata": {},
   "outputs": [],
   "source": [
    "r = requests.get('http://localhost:5000/list-dogs/')"
   ]
  },
  {
   "cell_type": "code",
   "execution_count": 12,
   "id": "8a9303d0-73b4-45e4-b8af-e1609aa00446",
   "metadata": {},
   "outputs": [
    {
     "data": {
      "text/plain": [
       "<bound method Response.json of <Response [200]>>"
      ]
     },
     "execution_count": 12,
     "metadata": {},
     "output_type": "execute_result"
    }
   ],
   "source": [
    "r.json"
   ]
  },
  {
   "cell_type": "code",
   "execution_count": 13,
   "id": "8af3c722-a11f-4b7b-bfe3-b73716ae3868",
   "metadata": {},
   "outputs": [
    {
     "data": {
      "text/plain": [
       "[{'age': 3,\n",
       "  'email': 'raquel@brasileiro.com',\n",
       "  'id': 'e27e762a-ea07-4c35-ab80-a568ff6e3ca3',\n",
       "  'name': 'Falafel',\n",
       "  'parent_name': 'Raquel Brasileiro',\n",
       "  'phone': '+55 21 98888 7777',\n",
       "  'weight': 6.5},\n",
       " {'age': 2,\n",
       "  'email': 'reawr@fasfd.de',\n",
       "  'id': 'f5b1930a-241c-49bf-bec7-9a9d4a5c58d0',\n",
       "  'name': 'Halloumi',\n",
       "  'parent_name': 'Maria Gomes',\n",
       "  'phone': '910238104',\n",
       "  'weight': 3.0}]"
      ]
     },
     "execution_count": 13,
     "metadata": {},
     "output_type": "execute_result"
    }
   ],
   "source": [
    "r.json()"
   ]
  },
  {
   "cell_type": "code",
   "execution_count": 14,
   "id": "61f22234-b23d-4ced-8bcd-ba225a5e0258",
   "metadata": {},
   "outputs": [
    {
     "data": {
      "text/plain": [
       "200"
      ]
     },
     "execution_count": 14,
     "metadata": {},
     "output_type": "execute_result"
    }
   ],
   "source": [
    "r.status_code"
   ]
  },
  {
   "cell_type": "code",
   "execution_count": null,
   "id": "f961e672-832e-427b-a481-0f7cb0d8069f",
   "metadata": {},
   "outputs": [],
   "source": []
  }
 ],
 "metadata": {
  "kernelspec": {
   "display_name": "Python 3 (ipykernel)",
   "language": "python",
   "name": "python3"
  },
  "language_info": {
   "codemirror_mode": {
    "name": "ipython",
    "version": 3
   },
   "file_extension": ".py",
   "mimetype": "text/x-python",
   "name": "python",
   "nbconvert_exporter": "python",
   "pygments_lexer": "ipython3",
   "version": "3.10.6"
  }
 },
 "nbformat": 4,
 "nbformat_minor": 5
}
