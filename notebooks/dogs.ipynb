{
 "cells": [
  {
   "cell_type": "code",
   "execution_count": null,
   "id": "41055b31-a935-4ea4-9459-570a51382caf",
   "metadata": {},
   "outputs": [],
   "source": [
    "%load_ext autoreload\n",
    "%autoreload 2"
   ]
  },
  {
   "cell_type": "code",
   "execution_count": null,
   "id": "ab4a4906-b89b-4b6f-9ca2-a2b0639a1a46",
   "metadata": {},
   "outputs": [],
   "source": [
    "from rahna import dog"
   ]
  },
  {
   "cell_type": "markdown",
   "id": "a8413384-bfbb-4c16-ba2b-0772f073569b",
   "metadata": {
    "jp-MarkdownHeadingCollapsed": true
   },
   "source": [
    "## Dog Class"
   ]
  },
  {
   "cell_type": "code",
   "execution_count": null,
   "id": "8e5353ef-3fd4-41f6-8baf-ba2c250e312f",
   "metadata": {},
   "outputs": [],
   "source": [
    "# example of dog instantiation\n",
    "falafel = dog.Dog(\n",
    "        name = 'Falafel',\n",
    "        age = 3,\n",
    "        weight = 6.5,\n",
    "        parent_name = 'Raquel Brasileiro',\n",
    "        phone = '+55 21 98888 7777',\n",
    "        email = 'raquel@brasileiro.com')\n",
    "\n",
    "halloumi = dog.Dog(\n",
    "        name = 'Halloumi',\n",
    "        age = 5,\n",
    "        weight = 8.5,\n",
    "        parent_name = 'Maria Gomes',\n",
    "        phone = '+55 21 98888 6666',\n",
    "        email = 'maria@gomes.com')"
   ]
  },
  {
   "cell_type": "code",
   "execution_count": null,
   "id": "d8b19761-75a3-4806-ad94-556f0b9bf2d0",
   "metadata": {},
   "outputs": [],
   "source": [
    "# BE CAREFUL HERE SINCE FOR NOW IT WILL KEEP ADDING SAME DOGS OVER AND OVER\n",
    "\n",
    "# creating the database dog.db and saving at the folder data\n",
    "dog.Dog.create_table(\"../data/test_dog.db\")\n",
    "\n",
    "# adding the two instances to the table\n",
    "falafel.save(\"../data/test_dog.db\")\n",
    "halloumi.save(\"../data/test_dog.db\")"
   ]
  },
  {
   "cell_type": "code",
   "execution_count": null,
   "id": "7148658a-1e2f-41cd-ab02-d4a0f7aafe8d",
   "metadata": {},
   "outputs": [],
   "source": [
    "# prints the whole list of dogs in the database\n",
    "dogs = dog.Dog.list_dogs(\"../data/test_dog.db\")\n",
    "dogs"
   ]
  },
  {
   "cell_type": "code",
   "execution_count": null,
   "id": "f6164593-12a9-4a68-821b-48acc9307968",
   "metadata": {},
   "outputs": [],
   "source": [
    "# gets a specific dog by name in the database\n",
    "dog.Dog.get_by_name('Falafel', \"../data/test_dog.db\")"
   ]
  },
  {
   "cell_type": "markdown",
   "id": "b9c226e2-4482-4dcc-9021-c3f9afa71230",
   "metadata": {
    "jp-MarkdownHeadingCollapsed": true
   },
   "source": [
    "## sqlite3 checks"
   ]
  },
  {
   "cell_type": "markdown",
   "id": "19ee6e99-96ba-4a59-a879-1a8c9a2bc129",
   "metadata": {},
   "source": [
    "Using the default row_factory treats rows as tuples with no information about column names."
   ]
  },
  {
   "cell_type": "code",
   "execution_count": null,
   "id": "7cbd1bd1-ca07-41d7-a78e-d2a16a489370",
   "metadata": {},
   "outputs": [],
   "source": [
    "import sqlite3\n",
    "con = sqlite3.connect(\"../data/test_dog.db\")\n",
    "# con.row_factory is None\n",
    "cur = con.cursor()\n",
    "cur.execute(\"SELECT * FROM dogs\")\n",
    "records = cur.fetchall()\n",
    "print(records[0])"
   ]
  },
  {
   "cell_type": "markdown",
   "id": "c0dbfc9d-44c6-4a01-8d5d-03b031404383",
   "metadata": {},
   "source": [
    "Using an object sqlite3.Row as row_factory, rows retain column names "
   ]
  },
  {
   "cell_type": "code",
   "execution_count": null,
   "id": "747b2688-44d2-448d-84e4-fe33e31daac5",
   "metadata": {},
   "outputs": [],
   "source": [
    "import sqlite3\n",
    "con = sqlite3.connect(\"../data/test_dog.db\")\n",
    "con.row_factory = sqlite3.Row\n",
    "cur = con.cursor()\n",
    "cur.execute(\"SELECT * FROM dogs\")\n",
    "records = cur.fetchall()\n",
    "print(records[0])\n",
    "print(dict(records[0]))"
   ]
  },
  {
   "cell_type": "code",
   "execution_count": 6,
   "id": "cab7b2de-8e51-4c71-ab63-89e18497b1ae",
   "metadata": {},
   "outputs": [
    {
     "ename": "KeyError",
     "evalue": "'DATABASE_NAME'",
     "output_type": "error",
     "traceback": [
      "\u001b[0;31m---------------------------------------------------------------------------\u001b[0m",
      "\u001b[0;31mKeyError\u001b[0m                                  Traceback (most recent call last)",
      "Cell \u001b[0;32mIn[6], line 2\u001b[0m\n\u001b[1;32m      1\u001b[0m \u001b[38;5;28;01mimport\u001b[39;00m \u001b[38;5;21;01mos\u001b[39;00m\n\u001b[0;32m----> 2\u001b[0m \u001b[38;5;28mprint\u001b[39m(\u001b[43mos\u001b[49m\u001b[38;5;241;43m.\u001b[39;49m\u001b[43menviron\u001b[49m\u001b[43m[\u001b[49m\u001b[38;5;124;43m\"\u001b[39;49m\u001b[38;5;124;43mDATABASE_NAME\u001b[39;49m\u001b[38;5;124;43m\"\u001b[39;49m\u001b[43m]\u001b[49m)\n",
      "File \u001b[0;32m~/.pyenv/versions/3.10.6/lib/python3.10/os.py:679\u001b[0m, in \u001b[0;36m_Environ.__getitem__\u001b[0;34m(self, key)\u001b[0m\n\u001b[1;32m    676\u001b[0m     value \u001b[38;5;241m=\u001b[39m \u001b[38;5;28mself\u001b[39m\u001b[38;5;241m.\u001b[39m_data[\u001b[38;5;28mself\u001b[39m\u001b[38;5;241m.\u001b[39mencodekey(key)]\n\u001b[1;32m    677\u001b[0m \u001b[38;5;28;01mexcept\u001b[39;00m \u001b[38;5;167;01mKeyError\u001b[39;00m:\n\u001b[1;32m    678\u001b[0m     \u001b[38;5;66;03m# raise KeyError with the original key value\u001b[39;00m\n\u001b[0;32m--> 679\u001b[0m     \u001b[38;5;28;01mraise\u001b[39;00m \u001b[38;5;167;01mKeyError\u001b[39;00m(key) \u001b[38;5;28;01mfrom\u001b[39;00m \u001b[38;5;28;01mNone\u001b[39;00m\n\u001b[1;32m    680\u001b[0m \u001b[38;5;28;01mreturn\u001b[39;00m \u001b[38;5;28mself\u001b[39m\u001b[38;5;241m.\u001b[39mdecodevalue(value)\n",
      "\u001b[0;31mKeyError\u001b[0m: 'DATABASE_NAME'"
     ]
    }
   ],
   "source": [
    "import os\n",
    "print(os.environ[\"DATABASE_NAME\"])"
   ]
  },
  {
   "cell_type": "code",
   "execution_count": null,
   "id": "0ea21981-56d6-4f39-ae21-805b99097f93",
   "metadata": {},
   "outputs": [],
   "source": []
  }
 ],
 "metadata": {
  "kernelspec": {
   "display_name": "Python 3 (ipykernel)",
   "language": "python",
   "name": "python3"
  },
  "language_info": {
   "codemirror_mode": {
    "name": "ipython",
    "version": 3
   },
   "file_extension": ".py",
   "mimetype": "text/x-python",
   "name": "python",
   "nbconvert_exporter": "python",
   "pygments_lexer": "ipython3",
   "version": "3.10.6"
  }
 },
 "nbformat": 4,
 "nbformat_minor": 5
}
