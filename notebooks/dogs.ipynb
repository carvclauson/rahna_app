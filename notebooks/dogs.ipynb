{
 "cells": [
  {
   "cell_type": "code",
   "execution_count": 1,
   "id": "41055b31-a935-4ea4-9459-570a51382caf",
   "metadata": {},
   "outputs": [],
   "source": [
    "%load_ext autoreload\n",
    "%autoreload 2"
   ]
  },
  {
   "cell_type": "code",
   "execution_count": 2,
   "id": "ab4a4906-b89b-4b6f-9ca2-a2b0639a1a46",
   "metadata": {},
   "outputs": [],
   "source": [
    "from rahna import dog"
   ]
  },
  {
   "cell_type": "markdown",
   "id": "a8413384-bfbb-4c16-ba2b-0772f073569b",
   "metadata": {},
   "source": [
    "## Dog Class"
   ]
  },
  {
   "cell_type": "code",
   "execution_count": 3,
   "id": "8e5353ef-3fd4-41f6-8baf-ba2c250e312f",
   "metadata": {},
   "outputs": [],
   "source": [
    "# example of dog instantiation\n",
    "falafel = dog.Dog(\n",
    "        name = 'Falafel',\n",
    "        age = 3,\n",
    "        weight = 6.5,\n",
    "        parent_name = 'Raquel Brasileiro',\n",
    "        phone = '+55 21 98888 7777',\n",
    "        email = 'raquel@brasileiro.com')\n",
    "\n",
    "halloumi = dog.Dog(\n",
    "        name = 'Halloumi',\n",
    "        age = 5,\n",
    "        weight = 8.5,\n",
    "        parent_name = 'Maria Gomes',\n",
    "        phone = '+55 21 98888 6666',\n",
    "        email = 'maria@gomes.com')"
   ]
  },
  {
   "cell_type": "code",
   "execution_count": 4,
   "id": "d8b19761-75a3-4806-ad94-556f0b9bf2d0",
   "metadata": {
    "scrolled": true
   },
   "outputs": [
    {
     "data": {
      "text/plain": [
       "Dog(id='67712de0-9d98-4133-8817-6789102a8807', name='Halloumi', age=5, weight=8.5, parent_name='Maria Gomes', phone='+55 21 98888 6666', email='maria@gomes.com')"
      ]
     },
     "execution_count": 4,
     "metadata": {},
     "output_type": "execute_result"
    }
   ],
   "source": [
    "# BE CAREFUL HERE SINCE FOR NOW IT WILL KEEP ADDING SAME DOGS OVER AND OVER\n",
    "\n",
    "# creating the database dog.db and saving at the folder data\n",
    "dog.Dog.create_table(\"../data/test_dog.db\")\n",
    "\n",
    "# adding the two instances to the table\n",
    "falafel.save(\"../data/test_dog.db\")\n",
    "halloumi.save(\"../data/test_dog.db\")"
   ]
  },
  {
   "cell_type": "code",
   "execution_count": null,
   "id": "de6940e4-5e3e-4bdf-99ed-c02748d87aa7",
   "metadata": {},
   "outputs": [],
   "source": []
  },
  {
   "cell_type": "code",
   "execution_count": 5,
   "id": "7148658a-1e2f-41cd-ab02-d4a0f7aafe8d",
   "metadata": {},
   "outputs": [
    {
     "data": {
      "text/plain": [
       "[Dog(id='9b69bc15-0e3b-47c6-8d22-49258d781711', name='Falafel', age=3, weight=6.5, parent_name='Raquel Brasileiro', phone='+55 21 98888 7777', email='raquel@brasileiro.com'),\n",
       " Dog(id='799673bb-df19-4b94-a08b-0d6b4e33f588', name='Halloumi', age=5, weight=8.5, parent_name='Maria Gomes', phone='+55 21 98888 6666', email='maria@gomes.com'),\n",
       " Dog(id='1cef8fb5-8f67-4da7-9bcc-076f8e7d696d', name='Falafel', age=3, weight=6.5, parent_name='Raquel Brasileiro', phone='+55 21 98888 7777', email='raquel@brasileiro.com'),\n",
       " Dog(id='67712de0-9d98-4133-8817-6789102a8807', name='Halloumi', age=5, weight=8.5, parent_name='Maria Gomes', phone='+55 21 98888 6666', email='maria@gomes.com')]"
      ]
     },
     "execution_count": 5,
     "metadata": {},
     "output_type": "execute_result"
    }
   ],
   "source": [
    "# prints the whole list of dogs in the database\n",
    "dogs = dog.Dog.list_dogs(\"../data/test_dog.db\")\n",
    "dogs"
   ]
  },
  {
   "cell_type": "code",
   "execution_count": 6,
   "id": "f6164593-12a9-4a68-821b-48acc9307968",
   "metadata": {},
   "outputs": [
    {
     "data": {
      "text/plain": [
       "Dog(id='9b69bc15-0e3b-47c6-8d22-49258d781711', name='Falafel', age=3, weight=6.5, parent_name='Raquel Brasileiro', phone='+55 21 98888 7777', email='raquel@brasileiro.com')"
      ]
     },
     "execution_count": 6,
     "metadata": {},
     "output_type": "execute_result"
    }
   ],
   "source": [
    "# gets a specific dog by name in the database\n",
    "dog.Dog.get_by_name('Falafel', \"../data/test_dog.db\")"
   ]
  },
  {
   "cell_type": "markdown",
   "id": "b9c226e2-4482-4dcc-9021-c3f9afa71230",
   "metadata": {},
   "source": [
    "## sqlite3 checks"
   ]
  },
  {
   "cell_type": "markdown",
   "id": "19ee6e99-96ba-4a59-a879-1a8c9a2bc129",
   "metadata": {},
   "source": [
    "Using the default row_factory treats rows as tuples with no information about column names."
   ]
  },
  {
   "cell_type": "code",
   "execution_count": 7,
   "id": "7cbd1bd1-ca07-41d7-a78e-d2a16a489370",
   "metadata": {},
   "outputs": [
    {
     "name": "stdout",
     "output_type": "stream",
     "text": [
      "[('9b69bc15-0e3b-47c6-8d22-49258d781711', 'Falafel', 3, 6.5, 'Raquel Brasileiro', '+55 21 98888 7777', 'raquel@brasileiro.com'), ('799673bb-df19-4b94-a08b-0d6b4e33f588', 'Halloumi', 5, 8.5, 'Maria Gomes', '+55 21 98888 6666', 'maria@gomes.com'), ('1cef8fb5-8f67-4da7-9bcc-076f8e7d696d', 'Falafel', 3, 6.5, 'Raquel Brasileiro', '+55 21 98888 7777', 'raquel@brasileiro.com'), ('67712de0-9d98-4133-8817-6789102a8807', 'Halloumi', 5, 8.5, 'Maria Gomes', '+55 21 98888 6666', 'maria@gomes.com')]\n"
     ]
    }
   ],
   "source": [
    "import sqlite3\n",
    "con = sqlite3.connect(\"../data/test_dog.db\")\n",
    "# con.row_factory is None\n",
    "cur = con.cursor()\n",
    "cur.execute(\"SELECT * FROM dogs\")\n",
    "records = cur.fetchall()\n",
    "con.close()\n",
    "print(records)"
   ]
  },
  {
   "cell_type": "code",
   "execution_count": 8,
   "id": "e022de2e-2519-49d0-b172-9e125fc6d2ec",
   "metadata": {},
   "outputs": [
    {
     "data": {
      "text/plain": [
       "4"
      ]
     },
     "execution_count": 8,
     "metadata": {},
     "output_type": "execute_result"
    }
   ],
   "source": [
    "len(records)"
   ]
  },
  {
   "cell_type": "markdown",
   "id": "c0dbfc9d-44c6-4a01-8d5d-03b031404383",
   "metadata": {},
   "source": [
    "Using an object sqlite3.Row as row_factory, rows retain column names "
   ]
  },
  {
   "cell_type": "code",
   "execution_count": 9,
   "id": "747b2688-44d2-448d-84e4-fe33e31daac5",
   "metadata": {},
   "outputs": [
    {
     "name": "stdout",
     "output_type": "stream",
     "text": [
      "[<sqlite3.Row object at 0x1050f8580>, <sqlite3.Row object at 0x1050741c0>, <sqlite3.Row object at 0x105b1b3d0>, <sqlite3.Row object at 0x105b1b370>]\n",
      "{'id': '9b69bc15-0e3b-47c6-8d22-49258d781711', 'name': 'Falafel', 'age': 3, 'weight': 6.5, 'parent_name': 'Raquel Brasileiro', 'phone': '+55 21 98888 7777', 'email': 'raquel@brasileiro.com'}\n"
     ]
    }
   ],
   "source": [
    "con = sqlite3.connect(\"../data/test_dog.db\")\n",
    "con.row_factory = sqlite3.Row\n",
    "cur = con.cursor()\n",
    "cur.execute(\"SELECT * FROM dogs\")\n",
    "records = cur.fetchall()\n",
    "con.close()\n",
    "print(records)\n",
    "print(dict(records[0]))"
   ]
  },
  {
   "cell_type": "markdown",
   "id": "3868bf5c-745a-4e59-bef8-9accb840fa28",
   "metadata": {},
   "source": [
    "Deleting a dog"
   ]
  },
  {
   "cell_type": "code",
   "execution_count": 17,
   "id": "f6f13017-f95c-484e-9b94-9d5e176ee1a1",
   "metadata": {},
   "outputs": [
    {
     "data": {
      "text/plain": [
       "[Dog(id='799673bb-df19-4b94-a08b-0d6b4e33f588', name='Halloumi', age=5, weight=8.5, parent_name='Maria Gomes', phone='+55 21 98888 6666', email='maria@gomes.com'),\n",
       " Dog(id='67712de0-9d98-4133-8817-6789102a8807', name='Halloumi', age=5, weight=8.5, parent_name='Maria Gomes', phone='+55 21 98888 6666', email='maria@gomes.com')]"
      ]
     },
     "execution_count": 17,
     "metadata": {},
     "output_type": "execute_result"
    }
   ],
   "source": [
    "dog_name = 'Falafel'\n",
    "con = sqlite3.connect(\"../data/test_dog.db\")\n",
    "cur = con.cursor()\n",
    "cur.execute(f\"SELECT * FROM dogs WHERE name = '{dog_name}'\")\n",
    "con.commit()\n",
    "con.close()\n",
    "dog.Dog.list_dogs(\"../data/test_dog.db\")"
   ]
  },
  {
   "cell_type": "code",
   "execution_count": 18,
   "id": "62ca0cf2-8ae1-450b-a8f6-ee5ad33a2273",
   "metadata": {},
   "outputs": [],
   "source": [
    "#falafel.save(\"../data/test_dog.db\")\n",
    "dog.Dog.delete_by_name(dog_name, \"../data/test_dog.db\")"
   ]
  },
  {
   "cell_type": "code",
   "execution_count": 19,
   "id": "13196eae-6ba3-41b8-ac03-76f8dd8540f3",
   "metadata": {},
   "outputs": [
    {
     "data": {
      "text/plain": [
       "[Dog(id='799673bb-df19-4b94-a08b-0d6b4e33f588', name='Halloumi', age=5, weight=8.5, parent_name='Maria Gomes', phone='+55 21 98888 6666', email='maria@gomes.com'),\n",
       " Dog(id='67712de0-9d98-4133-8817-6789102a8807', name='Halloumi', age=5, weight=8.5, parent_name='Maria Gomes', phone='+55 21 98888 6666', email='maria@gomes.com')]"
      ]
     },
     "execution_count": 19,
     "metadata": {},
     "output_type": "execute_result"
    }
   ],
   "source": [
    "dog.Dog.list_dogs(\"../data/test_dog.db\")"
   ]
  },
  {
   "cell_type": "code",
   "execution_count": null,
   "id": "cab7b2de-8e51-4c71-ab63-89e18497b1ae",
   "metadata": {},
   "outputs": [],
   "source": [
    "import os\n",
    "print(os.environ[\"DATABASE_NAME\"])"
   ]
  },
  {
   "cell_type": "code",
   "execution_count": null,
   "id": "0ea21981-56d6-4f39-ae21-805b99097f93",
   "metadata": {},
   "outputs": [],
   "source": []
  }
 ],
 "metadata": {
  "kernelspec": {
   "display_name": "Python 3 (ipykernel)",
   "language": "python",
   "name": "python3"
  },
  "language_info": {
   "codemirror_mode": {
    "name": "ipython",
    "version": 3
   },
   "file_extension": ".py",
   "mimetype": "text/x-python",
   "name": "python",
   "nbconvert_exporter": "python",
   "pygments_lexer": "ipython3",
   "version": "3.10.6"
  }
 },
 "nbformat": 4,
 "nbformat_minor": 5
}
