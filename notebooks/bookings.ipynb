{
 "cells": [
  {
   "cell_type": "code",
   "execution_count": 1,
   "id": "6a105332-b2dd-4ef2-af79-e604c66c18b2",
   "metadata": {},
   "outputs": [],
   "source": [
    "%load_ext autoreload\n",
    "%autoreload 2"
   ]
  },
  {
   "cell_type": "code",
   "execution_count": 2,
   "id": "1b43bc9b-0d43-4800-91bd-163962844ee3",
   "metadata": {},
   "outputs": [],
   "source": [
    "from rahna import dog\n",
    "from rahna.bookings import Booking\n",
    "\n",
    "from datetime import datetime, timedelta, date\n",
    "import time"
   ]
  },
  {
   "cell_type": "markdown",
   "id": "f5836f0d-6aef-47e3-973e-918d00156c7e",
   "metadata": {},
   "source": [
    "# Booking class"
   ]
  },
  {
   "cell_type": "code",
   "execution_count": 24,
   "id": "20819791-8b2f-48fd-92c0-fbc43991a804",
   "metadata": {},
   "outputs": [
    {
     "name": "stdout",
     "output_type": "stream",
     "text": [
      "6b9ebbfa-e65e-4e96-a8bf-a5a83001f274\n",
      "799673bb-df19-4b94-a08b-0d6b4e33f588\n"
     ]
    }
   ],
   "source": [
    "falafel_id = dog.Dog.get_by_name('Falafel', database_name = '../data/test_dog.db').id\n",
    "halloumi_id = dog.Dog.get_by_name('Halloumi', database_name = '../data/test_dog.db').id\n",
    "\n",
    "print(falafel_id)\n",
    "print(halloumi_id)"
   ]
  },
  {
   "cell_type": "code",
   "execution_count": 35,
   "id": "170da94f-d8d0-4423-be72-1a4711fac967",
   "metadata": {},
   "outputs": [],
   "source": [
    "start_date1 = datetime(day = 31, month = 12, year = 2023)\n",
    "end_date1 = datetime(day = 15, month = 1, year = 2024)\n",
    "total_days1 = end_date1 - start_date1\n",
    "\n",
    "start_date2 = datetime(day = 30, month = 12, year = 2023)\n",
    "end_date2 = datetime(day = 10, month = 1, year = 2024)\n",
    "total_days2 = end_date2 - start_date2\n",
    "\n",
    "\n",
    "booking1 = Booking(\n",
    "    dog_id = falafel_id,\n",
    "    start_date = start_date,\n",
    "    end_date = end_date,\n",
    "    total_days = total_days,\n",
    "    price = 200.,\n",
    "    booking_confirmed = 'Y'\n",
    ")\n",
    "\n",
    "booking2 = Booking(\n",
    "    dog_id = halloumi_id,\n",
    "    start_date = start_date2,\n",
    "    end_date = end_date2,\n",
    "    total_days = total_days2,\n",
    "    price = 160.,\n",
    "    booking_confirmed = 'Y'\n",
    ")"
   ]
  },
  {
   "cell_type": "code",
   "execution_count": 36,
   "id": "5ace16ad-c90d-4ffe-a9a9-f1fea3372a6f",
   "metadata": {},
   "outputs": [],
   "source": [
    "# creating the database test_booking.db and saving at the folder data\n",
    "Booking.create_table(\"../data/test_booking.db\")"
   ]
  },
  {
   "cell_type": "code",
   "execution_count": 37,
   "id": "bdcb8abc-3c06-43fe-ab5c-e546dccd4905",
   "metadata": {},
   "outputs": [
    {
     "data": {
      "text/plain": [
       "Booking(booking_id='7c92d231-737f-4c8f-84f6-59e59f004cbd', dog_id='799673bb-df19-4b94-a08b-0d6b4e33f588', start_date=datetime.datetime(2023, 12, 30, 0, 0), end_date=datetime.datetime(2024, 1, 10, 0, 0), total_days=datetime.timedelta(days=11), price=160.0, booking_confirmed='Y')"
      ]
     },
     "execution_count": 37,
     "metadata": {},
     "output_type": "execute_result"
    }
   ],
   "source": [
    "# BE CAREFUL HERE SINCE FOR NOW IT WILL KEEP ADDING SAME DOGS OVER AND OVER\n",
    "\n",
    "# adding the two instances to the table\n",
    "booking1.save(\"../data/test_booking.db\")\n",
    "booking2.save(\"../data/test_booking.db\")"
   ]
  },
  {
   "cell_type": "code",
   "execution_count": null,
   "id": "13baaa58-2b4b-4679-bdad-64533771c90e",
   "metadata": {},
   "outputs": [],
   "source": []
  }
 ],
 "metadata": {
  "kernelspec": {
   "display_name": "Python 3 (ipykernel)",
   "language": "python",
   "name": "python3"
  },
  "language_info": {
   "codemirror_mode": {
    "name": "ipython",
    "version": 3
   },
   "file_extension": ".py",
   "mimetype": "text/x-python",
   "name": "python",
   "nbconvert_exporter": "python",
   "pygments_lexer": "ipython3",
   "version": "3.10.6"
  }
 },
 "nbformat": 4,
 "nbformat_minor": 5
}
